{
 "cells": [
  {
   "cell_type": "code",
   "execution_count": 1,
   "metadata": {},
   "outputs": [],
   "source": [
    "from selenium import webdriver\n",
    "from selenium.webdriver.chrome.options import Options\n",
    "import chromedriver_binary #パスを通すのに必要\n",
    "import time\n",
    "\n",
    "def get_url():\n",
    "    #ヘッドレスモードを指定\n",
    "    options = Options()\n",
    "    options.add_argument('--headless')\n",
    "    driver = webdriver.Chrome(options=options)\n",
    "    \n",
    "    url = \"https://takashimaya-2.resv.jp/\"\n",
    "    driver.get(url)\n",
    "    elements = driver.find_elements_by_xpath(\"/html/body/div/div[3]/div[3]/div[4]/a\")\n",
    "    for element in elements:\n",
    "        reserve_url = element.get_attribute(\"href\")\n",
    "        return reserve_url"
   ]
  },
  {
   "cell_type": "code",
   "execution_count": 2,
   "metadata": {},
   "outputs": [
    {
     "name": "stdout",
     "output_type": "stream",
     "text": [
      "https://takashimaya-2.resv.jp/reserve/calendar.php?x=1659239356\n"
     ]
    },
    {
     "name": "stderr",
     "output_type": "stream",
     "text": [
      "<ipython-input-1-3122db404d43>:14: DeprecationWarning: find_elements_by_xpath is deprecated. Please use find_elements(by=By.XPATH, value=xpath) instead\n",
      "  elements = driver.find_elements_by_xpath(\"/html/body/div/div[3]/div[3]/div[4]/a\")\n"
     ]
    }
   ],
   "source": [
    "url = get_url()\n",
    "print(url)"
   ]
  },
  {
   "cell_type": "code",
   "execution_count": 3,
   "metadata": {},
   "outputs": [
    {
     "name": "stderr",
     "output_type": "stream",
     "text": [
      "<ipython-input-3-0f6af4f93c2f>:54: DeprecationWarning: find_element_by_* commands are deprecated. Please use find_element() instead\n",
      "  driver.find_element_by_id(\"categ_id_6\").click()\n",
      "<ipython-input-3-0f6af4f93c2f>:58: DeprecationWarning: find_elements_by_xpath is deprecated. Please use find_elements(by=By.XPATH, value=xpath) instead\n",
      "  next_week_path = driver.find_elements_by_xpath('/html/body/div/div[3]/div[3]/div[9]/table[1]/tbody/tr/td[2]/div[2]')\n",
      "/Users/oharakenya/opt/anaconda3/lib/python3.8/site-packages/selenium/webdriver/remote/webelement.py:464: UserWarning: find_elements_by_class_name is deprecated. Please use find_elements(by=By.CLASS_NAME, value=name) instead\n",
      "  warnings.warn(\"find_elements_by_class_name is deprecated. Please use find_elements(by=By.CLASS_NAME, value=name) instead\")\n",
      "<ipython-input-3-0f6af4f93c2f>:68: DeprecationWarning: find_elements_by_xpath is deprecated. Please use find_elements(by=By.XPATH, value=xpath) instead\n",
      "  contents += driver.find_elements_by_xpath(url)\n"
     ]
    },
    {
     "name": "stdout",
     "output_type": "stream",
     "text": [
      "予約できませんでした\n"
     ]
    }
   ],
   "source": [
    "import chromedriver_binary #パスを通すのに必要\n",
    "from selenium import webdriver\n",
    "from selenium.webdriver.common.by import By\n",
    "import time\n",
    "\n",
    "def func(param):\n",
    "    datetime = param.get_attribute('innerHTML').split(\"setCalDate\")[1].split(\"'\")[1]\n",
    "    driver.execute_script(\"window.onbeforeunload = null; setCalDate('\" + datetime + \"')\")\n",
    "\n",
    "# 個人情報の取り扱い同意\n",
    "    driver.find_element_by_xpath(\"/html/body/div/div[3]/div[3]/div[1]/form/div[1]/div[2]/div/label/span\").click()\n",
    "    driver.find_element_by_xpath(\"/html/body/div/div[3]/div[3]/div[1]/form/div[1]/div[4]/div/label/span\").click()\n",
    "    driver.find_element_by_xpath(\"/html/body/div/div[3]/div[3]/div[1]/form/div[1]/div[6]/div/label/span\").click()\n",
    "    driver.find_element_by_xpath(\"/html/body/div/div[3]/div[3]/div[1]/form/div[1]/div[8]/div/label/span\").click()\n",
    "\n",
    "    address = driver.find_element_by_id(\"bt_form_attr_res16\")\n",
    "    address.send_keys(\"東京都中央区日本橋0-0\")\n",
    "\n",
    "    birth = driver.find_element_by_id(\"bt_form_attr_res4\")\n",
    "    birth.send_keys(\"19000812\")\n",
    "    driver.find_element_by_xpath(\"/html/body/div/div[3]/div[3]/div[1]/form/div[2]/input[2]\").click()\n",
    "\n",
    "    # 個人情報を入力\n",
    "    name = driver.find_element_by_id(\"bt_form_cus_name\")\n",
    "    name.send_keys(\"佐藤太郎\")\n",
    "\n",
    "    kana = driver.find_element_by_id(\"bt_form_cus_kana\")\n",
    "    kana.send_keys(\"サトウタロウ\")\n",
    "\n",
    "    mail = driver.find_element_by_id(\"bt_form_cus_mail\")\n",
    "    mail.send_keys(\"lose-cut@ezweb.ne.jp\")\n",
    "    mail_confirm = driver.find_element_by_id(\"bt_form_cus_mail_chk\")\n",
    "    mail_confirm.send_keys(\"lose-cut@ezweb.ne.jp\")\n",
    "\n",
    "    tel = driver.find_element_by_id(\"bt_form_cus_tel\")\n",
    "    tel.send_keys(\"08055559898\")\n",
    "\n",
    "    driver.find_element_by_css_selector(\"input[value='次へ進む']\").click()\n",
    "    reserve = driver.find_element_by_id(\"res_confrim_submit\")\n",
    "    #予約してしまうのでコメントアウト\n",
    "#     reserve.click()\n",
    "# ---------------------------------------------------------------------------------------------------------------------------------------------------------------------------\n",
    "\n",
    "\n",
    "#ヘッドレスモードを指定\n",
    "# options = Options()\n",
    "# options.add_argument('--headless')\n",
    "# driver = webdriver.Chrome(options=options)\n",
    "\n",
    "#WEBブラウザモード\n",
    "driver = webdriver.Chrome()\n",
    "\n",
    "driver.get(url)\n",
    "driver.find_element_by_id(\"categ_id_6\").click()\n",
    "time.sleep(1)\n",
    "\n",
    "#翌週を選択\n",
    "next_week_path = driver.find_elements_by_xpath('/html/body/div/div[3]/div[3]/div[9]/table[1]/tbody/tr/td[2]/div[2]')\n",
    "for component in next_week_path:\n",
    "    component.find_elements_by_class_name('next-week-div')\n",
    "    datetime = component.get_attribute('innerHTML').split(\"getMaincalendar(\")[1].split(\")\")[0]\n",
    "    driver.execute_script(\"getMaincalendar({})\".format(datetime))\n",
    "time.sleep(1)\n",
    "\n",
    "#テーブル表の16時30分と18時の時間帯を取得\n",
    "contents = []\n",
    "for index in range(5, 6):\n",
    "    url = '/html/body/div/div[3]/div[3]/div[9]/div[3]/table/tbody/tr[' + str(index) + ']'\n",
    "    contents += driver.find_elements_by_xpath(url)\n",
    "\n",
    "#テーブル表が◯と▲の場合のみfunc()を実行\n",
    "icons = [\"fa-circle\", \"fa-triangle\"]\n",
    "is_get = False\n",
    "# 多重ループの途中終了について ref : https://note.nkmk.me/python-break-nested-loops/\n",
    "for content in contents:\n",
    "    for icon in icons:\n",
    "        if len(content.find_elements_by_class_name(icon)) != 0:\n",
    "            func(content)\n",
    "            print(\"予約完了\")\n",
    "            is_get = True\n",
    "            break\n",
    "    else:\n",
    "        continue\n",
    "    break\n",
    "\n",
    "if not is_get:\n",
    "    print(\"予約できませんでした\")\n",
    "\n",
    "time.sleep(10)\n",
    "driver.quit()"
   ]
  },
  {
   "cell_type": "code",
   "execution_count": null,
   "metadata": {},
   "outputs": [],
   "source": []
  }
 ],
 "metadata": {
  "kernelspec": {
   "display_name": "Python 3",
   "language": "python",
   "name": "python3"
  },
  "language_info": {
   "codemirror_mode": {
    "name": "ipython",
    "version": 3
   },
   "file_extension": ".py",
   "mimetype": "text/x-python",
   "name": "python",
   "nbconvert_exporter": "python",
   "pygments_lexer": "ipython3",
   "version": "3.8.5"
  }
 },
 "nbformat": 4,
 "nbformat_minor": 4
}
